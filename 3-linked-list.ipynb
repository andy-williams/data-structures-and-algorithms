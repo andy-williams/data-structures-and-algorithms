{
 "cells": [
  {
   "cell_type": "markdown",
   "metadata": {},
   "source": [
    "# Linked List\n"
   ]
  },
  {
   "cell_type": "code",
   "execution_count": null,
   "metadata": {
    "collapsed": true
   },
   "outputs": [],
   "source": [
    "class Node:\n",
    "    \n",
    "    value\n",
    "    next_node\n",
    "    \n",
    "    def __init__(self, value):\n",
    "        self._value = value\n",
    "        \n",
    "    def add_node(self, node):\n",
    "        if not isinstance(node, Node):\n",
    "            raise ValueError('argument expected to be type of Node')\n",
    "        else:\n",
    "            head = self\n",
    "            while(head.next_node is not None):\n",
    "                head = head.next_node"
   ]
  }
 ],
 "metadata": {
  "kernelspec": {
   "display_name": "Python 3",
   "language": "python",
   "name": "python3"
  },
  "language_info": {
   "codemirror_mode": {
    "name": "ipython",
    "version": 3
   },
   "file_extension": ".py",
   "mimetype": "text/x-python",
   "name": "python",
   "nbconvert_exporter": "python",
   "pygments_lexer": "ipython3",
   "version": "3.6.0"
  }
 },
 "nbformat": 4,
 "nbformat_minor": 2
}
