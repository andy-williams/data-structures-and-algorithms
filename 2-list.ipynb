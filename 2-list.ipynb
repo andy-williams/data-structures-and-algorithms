{
 "cells": [
  {
   "cell_type": "markdown",
   "metadata": {},
   "source": [
    "# List\n",
    "\n",
    "List is an abstract data structure that can contain n amount of elements. An array behaves much like an array, but without a fixed size. \n",
    "\n",
    "Lists are initialised with a size, and dynamically changes capacity as needed to accomodate more elements whenever needed. Whenever an elements gets appeneded to a list that goes beyond the current capacity, the **capacity is multiplied by two**."
   ]
  }
 ],
 "metadata": {
  "kernelspec": {
   "display_name": "Python 3",
   "language": "python",
   "name": "python3"
  },
  "language_info": {
   "codemirror_mode": {
    "name": "ipython",
    "version": 3
   },
   "file_extension": ".py",
   "mimetype": "text/x-python",
   "name": "python",
   "nbconvert_exporter": "python",
   "pygments_lexer": "ipython3",
   "version": "3.6.0"
  }
 },
 "nbformat": 4,
 "nbformat_minor": 2
}
